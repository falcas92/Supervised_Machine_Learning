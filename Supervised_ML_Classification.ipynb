{
 "cells": [
  {
   "cell_type": "markdown",
   "metadata": {},
   "source": [
    "## Supervised machine learning: Classification"
   ]
  },
  {
   "cell_type": "markdown",
   "metadata": {},
   "source": [
    "### In the following notebook, i will present different applications of Machine Learning classification algorithms.\n",
    "\n",
    "### Dataset description:\n",
    "\n",
    "- Dataframe containing 177 rows and 13 columns, describing the results of chemical analyses of wines from the same region in Italy (Piedmont) but from three different cultivars (classes): Barolo, Grignolino, and Barbera\n",
    "- goal: predict the wine cultivars (classes) from the measured values\n",
    "\n",
    "### Files to use:\n",
    "\n",
    "- wines.csv - file with analysis data\n",
    "- wines_labels.csv - class labels"
   ]
  },
  {
   "cell_type": "markdown",
   "metadata": {},
   "source": [
    "### Data and metadata"
   ]
  },
  {
   "cell_type": "code",
   "execution_count": 1,
   "metadata": {},
   "outputs": [],
   "source": [
    "import pandas as pd"
   ]
  },
  {
   "cell_type": "code",
   "execution_count": 2,
   "metadata": {},
   "outputs": [],
   "source": [
    "data_wines = pd.read_csv('data/wines.csv',sep=',', index_col = 0) #input features\n",
    "meta_wines = pd.read_csv('data/wines_labels.csv',sep=',', index_col = 0) #output labels"
   ]
  },
  {
   "cell_type": "code",
   "execution_count": 56,
   "metadata": {},
   "outputs": [
    {
     "data": {
      "text/html": [
       "<div>\n",
       "<style scoped>\n",
       "    .dataframe tbody tr th:only-of-type {\n",
       "        vertical-align: middle;\n",
       "    }\n",
       "\n",
       "    .dataframe tbody tr th {\n",
       "        vertical-align: top;\n",
       "    }\n",
       "\n",
       "    .dataframe thead th {\n",
       "        text-align: right;\n",
       "    }\n",
       "</style>\n",
       "<table border=\"1\" class=\"dataframe\">\n",
       "  <thead>\n",
       "    <tr style=\"text-align: right;\">\n",
       "      <th></th>\n",
       "      <th>alcohol</th>\n",
       "      <th>malic acid</th>\n",
       "      <th>ash</th>\n",
       "      <th>ash alkalinity</th>\n",
       "      <th>magnesium</th>\n",
       "      <th>tot. phenols</th>\n",
       "      <th>flavonoids</th>\n",
       "      <th>non-flav. phenols</th>\n",
       "      <th>proanth</th>\n",
       "      <th>col. int.</th>\n",
       "      <th>col. hue</th>\n",
       "      <th>OD ratio</th>\n",
       "      <th>proline</th>\n",
       "    </tr>\n",
       "  </thead>\n",
       "  <tbody>\n",
       "    <tr>\n",
       "      <th>1</th>\n",
       "      <td>13.20</td>\n",
       "      <td>1.78</td>\n",
       "      <td>2.14</td>\n",
       "      <td>11.2</td>\n",
       "      <td>100</td>\n",
       "      <td>2.65</td>\n",
       "      <td>2.76</td>\n",
       "      <td>0.26</td>\n",
       "      <td>1.28</td>\n",
       "      <td>4.38</td>\n",
       "      <td>1.05</td>\n",
       "      <td>3.40</td>\n",
       "      <td>1050</td>\n",
       "    </tr>\n",
       "    <tr>\n",
       "      <th>2</th>\n",
       "      <td>13.16</td>\n",
       "      <td>2.36</td>\n",
       "      <td>2.67</td>\n",
       "      <td>18.6</td>\n",
       "      <td>101</td>\n",
       "      <td>2.80</td>\n",
       "      <td>3.24</td>\n",
       "      <td>0.30</td>\n",
       "      <td>2.81</td>\n",
       "      <td>5.68</td>\n",
       "      <td>1.03</td>\n",
       "      <td>3.17</td>\n",
       "      <td>1185</td>\n",
       "    </tr>\n",
       "    <tr>\n",
       "      <th>3</th>\n",
       "      <td>14.37</td>\n",
       "      <td>1.95</td>\n",
       "      <td>2.50</td>\n",
       "      <td>16.8</td>\n",
       "      <td>113</td>\n",
       "      <td>3.85</td>\n",
       "      <td>3.49</td>\n",
       "      <td>0.24</td>\n",
       "      <td>2.18</td>\n",
       "      <td>7.80</td>\n",
       "      <td>0.86</td>\n",
       "      <td>3.45</td>\n",
       "      <td>1480</td>\n",
       "    </tr>\n",
       "    <tr>\n",
       "      <th>4</th>\n",
       "      <td>13.24</td>\n",
       "      <td>2.59</td>\n",
       "      <td>2.87</td>\n",
       "      <td>21.0</td>\n",
       "      <td>118</td>\n",
       "      <td>2.80</td>\n",
       "      <td>2.69</td>\n",
       "      <td>0.39</td>\n",
       "      <td>1.82</td>\n",
       "      <td>4.32</td>\n",
       "      <td>1.04</td>\n",
       "      <td>2.93</td>\n",
       "      <td>735</td>\n",
       "    </tr>\n",
       "    <tr>\n",
       "      <th>5</th>\n",
       "      <td>14.20</td>\n",
       "      <td>1.76</td>\n",
       "      <td>2.45</td>\n",
       "      <td>15.2</td>\n",
       "      <td>112</td>\n",
       "      <td>3.27</td>\n",
       "      <td>3.39</td>\n",
       "      <td>0.34</td>\n",
       "      <td>1.97</td>\n",
       "      <td>6.75</td>\n",
       "      <td>1.05</td>\n",
       "      <td>2.85</td>\n",
       "      <td>1450</td>\n",
       "    </tr>\n",
       "  </tbody>\n",
       "</table>\n",
       "</div>"
      ],
      "text/plain": [
       "   alcohol  malic acid   ash  ash alkalinity  magnesium  tot. phenols  \\\n",
       "1    13.20        1.78  2.14            11.2        100          2.65   \n",
       "2    13.16        2.36  2.67            18.6        101          2.80   \n",
       "3    14.37        1.95  2.50            16.8        113          3.85   \n",
       "4    13.24        2.59  2.87            21.0        118          2.80   \n",
       "5    14.20        1.76  2.45            15.2        112          3.27   \n",
       "\n",
       "   flavonoids  non-flav. phenols  proanth  col. int.  col. hue  OD ratio  \\\n",
       "1        2.76               0.26     1.28       4.38      1.05      3.40   \n",
       "2        3.24               0.30     2.81       5.68      1.03      3.17   \n",
       "3        3.49               0.24     2.18       7.80      0.86      3.45   \n",
       "4        2.69               0.39     1.82       4.32      1.04      2.93   \n",
       "5        3.39               0.34     1.97       6.75      1.05      2.85   \n",
       "\n",
       "   proline  \n",
       "1     1050  \n",
       "2     1185  \n",
       "3     1480  \n",
       "4      735  \n",
       "5     1450  "
      ]
     },
     "execution_count": 56,
     "metadata": {},
     "output_type": "execute_result"
    }
   ],
   "source": [
    "data_wines.head()"
   ]
  },
  {
   "cell_type": "code",
   "execution_count": 57,
   "metadata": {},
   "outputs": [
    {
     "data": {
      "text/plain": [
       "(177, 13)"
      ]
     },
     "execution_count": 57,
     "metadata": {},
     "output_type": "execute_result"
    }
   ],
   "source": [
    "data_wines.shape # 177 rows; 13 columns"
   ]
  },
  {
   "cell_type": "code",
   "execution_count": 58,
   "metadata": {},
   "outputs": [
    {
     "data": {
      "text/html": [
       "<div>\n",
       "<style scoped>\n",
       "    .dataframe tbody tr th:only-of-type {\n",
       "        vertical-align: middle;\n",
       "    }\n",
       "\n",
       "    .dataframe tbody tr th {\n",
       "        vertical-align: top;\n",
       "    }\n",
       "\n",
       "    .dataframe thead th {\n",
       "        text-align: right;\n",
       "    }\n",
       "</style>\n",
       "<table border=\"1\" class=\"dataframe\">\n",
       "  <thead>\n",
       "    <tr style=\"text-align: right;\">\n",
       "      <th></th>\n",
       "      <th>alcohol</th>\n",
       "      <th>malic acid</th>\n",
       "      <th>ash</th>\n",
       "      <th>ash alkalinity</th>\n",
       "      <th>magnesium</th>\n",
       "      <th>tot. phenols</th>\n",
       "      <th>flavonoids</th>\n",
       "      <th>non-flav. phenols</th>\n",
       "      <th>proanth</th>\n",
       "      <th>col. int.</th>\n",
       "      <th>col. hue</th>\n",
       "      <th>OD ratio</th>\n",
       "      <th>proline</th>\n",
       "    </tr>\n",
       "  </thead>\n",
       "  <tbody>\n",
       "    <tr>\n",
       "      <th>count</th>\n",
       "      <td>177.000000</td>\n",
       "      <td>177.000000</td>\n",
       "      <td>177.000000</td>\n",
       "      <td>177.000000</td>\n",
       "      <td>177.000000</td>\n",
       "      <td>177.000000</td>\n",
       "      <td>177.000000</td>\n",
       "      <td>177.000000</td>\n",
       "      <td>177.000000</td>\n",
       "      <td>177.000000</td>\n",
       "      <td>177.000000</td>\n",
       "      <td>177.000000</td>\n",
       "      <td>177.000000</td>\n",
       "    </tr>\n",
       "    <tr>\n",
       "      <th>mean</th>\n",
       "      <td>12.993672</td>\n",
       "      <td>2.339887</td>\n",
       "      <td>2.366158</td>\n",
       "      <td>19.516949</td>\n",
       "      <td>99.587571</td>\n",
       "      <td>2.292260</td>\n",
       "      <td>2.023446</td>\n",
       "      <td>0.362316</td>\n",
       "      <td>1.586949</td>\n",
       "      <td>5.054802</td>\n",
       "      <td>0.956983</td>\n",
       "      <td>2.604294</td>\n",
       "      <td>745.096045</td>\n",
       "    </tr>\n",
       "    <tr>\n",
       "      <th>std</th>\n",
       "      <td>0.808808</td>\n",
       "      <td>1.119314</td>\n",
       "      <td>0.275080</td>\n",
       "      <td>3.336071</td>\n",
       "      <td>14.174018</td>\n",
       "      <td>0.626465</td>\n",
       "      <td>0.998658</td>\n",
       "      <td>0.124653</td>\n",
       "      <td>0.571545</td>\n",
       "      <td>2.324446</td>\n",
       "      <td>0.229135</td>\n",
       "      <td>0.705103</td>\n",
       "      <td>314.884046</td>\n",
       "    </tr>\n",
       "    <tr>\n",
       "      <th>min</th>\n",
       "      <td>11.030000</td>\n",
       "      <td>0.740000</td>\n",
       "      <td>1.360000</td>\n",
       "      <td>10.600000</td>\n",
       "      <td>70.000000</td>\n",
       "      <td>0.980000</td>\n",
       "      <td>0.340000</td>\n",
       "      <td>0.130000</td>\n",
       "      <td>0.410000</td>\n",
       "      <td>1.280000</td>\n",
       "      <td>0.480000</td>\n",
       "      <td>1.270000</td>\n",
       "      <td>278.000000</td>\n",
       "    </tr>\n",
       "    <tr>\n",
       "      <th>25%</th>\n",
       "      <td>12.360000</td>\n",
       "      <td>1.600000</td>\n",
       "      <td>2.210000</td>\n",
       "      <td>17.200000</td>\n",
       "      <td>88.000000</td>\n",
       "      <td>1.740000</td>\n",
       "      <td>1.200000</td>\n",
       "      <td>0.270000</td>\n",
       "      <td>1.250000</td>\n",
       "      <td>3.210000</td>\n",
       "      <td>0.780000</td>\n",
       "      <td>1.930000</td>\n",
       "      <td>500.000000</td>\n",
       "    </tr>\n",
       "    <tr>\n",
       "      <th>50%</th>\n",
       "      <td>13.050000</td>\n",
       "      <td>1.870000</td>\n",
       "      <td>2.360000</td>\n",
       "      <td>19.500000</td>\n",
       "      <td>98.000000</td>\n",
       "      <td>2.350000</td>\n",
       "      <td>2.130000</td>\n",
       "      <td>0.340000</td>\n",
       "      <td>1.550000</td>\n",
       "      <td>4.680000</td>\n",
       "      <td>0.960000</td>\n",
       "      <td>2.780000</td>\n",
       "      <td>672.000000</td>\n",
       "    </tr>\n",
       "    <tr>\n",
       "      <th>75%</th>\n",
       "      <td>13.670000</td>\n",
       "      <td>3.100000</td>\n",
       "      <td>2.560000</td>\n",
       "      <td>21.500000</td>\n",
       "      <td>107.000000</td>\n",
       "      <td>2.800000</td>\n",
       "      <td>2.860000</td>\n",
       "      <td>0.440000</td>\n",
       "      <td>1.950000</td>\n",
       "      <td>6.200000</td>\n",
       "      <td>1.120000</td>\n",
       "      <td>3.170000</td>\n",
       "      <td>985.000000</td>\n",
       "    </tr>\n",
       "    <tr>\n",
       "      <th>max</th>\n",
       "      <td>14.830000</td>\n",
       "      <td>5.800000</td>\n",
       "      <td>3.230000</td>\n",
       "      <td>30.000000</td>\n",
       "      <td>162.000000</td>\n",
       "      <td>3.880000</td>\n",
       "      <td>5.080000</td>\n",
       "      <td>0.660000</td>\n",
       "      <td>3.580000</td>\n",
       "      <td>13.000000</td>\n",
       "      <td>1.710000</td>\n",
       "      <td>4.000000</td>\n",
       "      <td>1680.000000</td>\n",
       "    </tr>\n",
       "  </tbody>\n",
       "</table>\n",
       "</div>"
      ],
      "text/plain": [
       "          alcohol  malic acid         ash  ash alkalinity   magnesium  \\\n",
       "count  177.000000  177.000000  177.000000      177.000000  177.000000   \n",
       "mean    12.993672    2.339887    2.366158       19.516949   99.587571   \n",
       "std      0.808808    1.119314    0.275080        3.336071   14.174018   \n",
       "min     11.030000    0.740000    1.360000       10.600000   70.000000   \n",
       "25%     12.360000    1.600000    2.210000       17.200000   88.000000   \n",
       "50%     13.050000    1.870000    2.360000       19.500000   98.000000   \n",
       "75%     13.670000    3.100000    2.560000       21.500000  107.000000   \n",
       "max     14.830000    5.800000    3.230000       30.000000  162.000000   \n",
       "\n",
       "       tot. phenols  flavonoids  non-flav. phenols     proanth   col. int.  \\\n",
       "count    177.000000  177.000000         177.000000  177.000000  177.000000   \n",
       "mean       2.292260    2.023446           0.362316    1.586949    5.054802   \n",
       "std        0.626465    0.998658           0.124653    0.571545    2.324446   \n",
       "min        0.980000    0.340000           0.130000    0.410000    1.280000   \n",
       "25%        1.740000    1.200000           0.270000    1.250000    3.210000   \n",
       "50%        2.350000    2.130000           0.340000    1.550000    4.680000   \n",
       "75%        2.800000    2.860000           0.440000    1.950000    6.200000   \n",
       "max        3.880000    5.080000           0.660000    3.580000   13.000000   \n",
       "\n",
       "         col. hue    OD ratio      proline  \n",
       "count  177.000000  177.000000   177.000000  \n",
       "mean     0.956983    2.604294   745.096045  \n",
       "std      0.229135    0.705103   314.884046  \n",
       "min      0.480000    1.270000   278.000000  \n",
       "25%      0.780000    1.930000   500.000000  \n",
       "50%      0.960000    2.780000   672.000000  \n",
       "75%      1.120000    3.170000   985.000000  \n",
       "max      1.710000    4.000000  1680.000000  "
      ]
     },
     "execution_count": 58,
     "metadata": {},
     "output_type": "execute_result"
    }
   ],
   "source": [
    "data_wines.describe() # summary stats"
   ]
  },
  {
   "cell_type": "code",
   "execution_count": 6,
   "metadata": {},
   "outputs": [
    {
     "data": {
      "text/html": [
       "<div>\n",
       "<style scoped>\n",
       "    .dataframe tbody tr th:only-of-type {\n",
       "        vertical-align: middle;\n",
       "    }\n",
       "\n",
       "    .dataframe tbody tr th {\n",
       "        vertical-align: top;\n",
       "    }\n",
       "\n",
       "    .dataframe thead th {\n",
       "        text-align: right;\n",
       "    }\n",
       "</style>\n",
       "<table border=\"1\" class=\"dataframe\">\n",
       "  <thead>\n",
       "    <tr style=\"text-align: right;\">\n",
       "      <th></th>\n",
       "      <th>x</th>\n",
       "    </tr>\n",
       "  </thead>\n",
       "  <tbody>\n",
       "    <tr>\n",
       "      <th>1</th>\n",
       "      <td>Barolo</td>\n",
       "    </tr>\n",
       "    <tr>\n",
       "      <th>2</th>\n",
       "      <td>Barolo</td>\n",
       "    </tr>\n",
       "    <tr>\n",
       "      <th>3</th>\n",
       "      <td>Barolo</td>\n",
       "    </tr>\n",
       "    <tr>\n",
       "      <th>4</th>\n",
       "      <td>Barolo</td>\n",
       "    </tr>\n",
       "    <tr>\n",
       "      <th>5</th>\n",
       "      <td>Barolo</td>\n",
       "    </tr>\n",
       "    <tr>\n",
       "      <th>...</th>\n",
       "      <td>...</td>\n",
       "    </tr>\n",
       "    <tr>\n",
       "      <th>173</th>\n",
       "      <td>Barbera</td>\n",
       "    </tr>\n",
       "    <tr>\n",
       "      <th>174</th>\n",
       "      <td>Barbera</td>\n",
       "    </tr>\n",
       "    <tr>\n",
       "      <th>175</th>\n",
       "      <td>Barbera</td>\n",
       "    </tr>\n",
       "    <tr>\n",
       "      <th>176</th>\n",
       "      <td>Barbera</td>\n",
       "    </tr>\n",
       "    <tr>\n",
       "      <th>177</th>\n",
       "      <td>Barbera</td>\n",
       "    </tr>\n",
       "  </tbody>\n",
       "</table>\n",
       "<p>177 rows × 1 columns</p>\n",
       "</div>"
      ],
      "text/plain": [
       "           x\n",
       "1     Barolo\n",
       "2     Barolo\n",
       "3     Barolo\n",
       "4     Barolo\n",
       "5     Barolo\n",
       "..       ...\n",
       "173  Barbera\n",
       "174  Barbera\n",
       "175  Barbera\n",
       "176  Barbera\n",
       "177  Barbera\n",
       "\n",
       "[177 rows x 1 columns]"
      ]
     },
     "execution_count": 6,
     "metadata": {},
     "output_type": "execute_result"
    }
   ],
   "source": [
    "meta_wines #outputs; labels"
   ]
  },
  {
   "cell_type": "code",
   "execution_count": 7,
   "metadata": {},
   "outputs": [
    {
     "data": {
      "text/plain": [
       "Grignolino    71\n",
       "Barolo        58\n",
       "Barbera       48\n",
       "Name: x, dtype: int64"
      ]
     },
     "execution_count": 7,
     "metadata": {},
     "output_type": "execute_result"
    }
   ],
   "source": [
    "target = meta_wines['x']\n",
    "target.value_counts() #understand the distribution of different categories or labels in a dataset."
   ]
  },
  {
   "cell_type": "markdown",
   "metadata": {},
   "source": [
    "### Split data into train and test (holdout method)"
   ]
  },
  {
   "cell_type": "code",
   "execution_count": 8,
   "metadata": {},
   "outputs": [],
   "source": [
    "from sklearn.model_selection import train_test_split"
   ]
  },
  {
   "cell_type": "code",
   "execution_count": 61,
   "metadata": {},
   "outputs": [
    {
     "name": "stdout",
     "output_type": "stream",
     "text": [
      "(123, 13)\n",
      "(54, 13)\n"
     ]
    }
   ],
   "source": [
    "wines_X_train, wines_X_test, wines_y_train, wines_y_test = train_test_split(data_wines, target, test_size=0.3, random_state=1)\n",
    "    # spliting data into training and testing sets\n",
    "    #30% of the data will be allocated to the testing set; 70% for training.\n",
    "    #setting the random seed to ensure reproducibility\n",
    "    \n",
    "        #wines_X_train (training input features)\n",
    "        #wines_X_test (testing input features)\n",
    "        #wines_y_train (training labels)\n",
    "        #wines_y_test (testing labels).\n",
    "\n",
    "print(wines_X_train.shape)\n",
    "print(wines_X_test.shape)"
   ]
  },
  {
   "cell_type": "markdown",
   "metadata": {},
   "source": [
    "### K-Nearest Neighbour"
   ]
  },
  {
   "cell_type": "code",
   "execution_count": 10,
   "metadata": {},
   "outputs": [],
   "source": [
    "from sklearn.neighbors import KNeighborsClassifier"
   ]
  },
  {
   "cell_type": "markdown",
   "metadata": {},
   "source": [
    "#### Training the KNN classification model  and evaluating its accuracy"
   ]
  },
  {
   "cell_type": "code",
   "execution_count": 11,
   "metadata": {
    "scrolled": true
   },
   "outputs": [
    {
     "name": "stdout",
     "output_type": "stream",
     "text": [
      "PECC (Accuracy): 0.76\n"
     ]
    },
    {
     "name": "stderr",
     "output_type": "stream",
     "text": [
      "C:\\Users\\filip\\anaconda3\\lib\\site-packages\\sklearn\\neighbors\\_classification.py:228: FutureWarning: Unlike other reduction functions (e.g. `skew`, `kurtosis`), the default behavior of `mode` typically preserves the axis it acts along. In SciPy 1.11.0, this behavior will change: the default value of `keepdims` will become False, the `axis` over which the statistic is taken will be eliminated, and the value None will no longer be accepted. Set `keepdims` to True or False to avoid this warning.\n",
      "  mode, _ = stats.mode(_y[neigh_ind, k], axis=1)\n",
      "C:\\Users\\filip\\anaconda3\\lib\\site-packages\\sklearn\\neighbors\\_classification.py:228: FutureWarning: Unlike other reduction functions (e.g. `skew`, `kurtosis`), the default behavior of `mode` typically preserves the axis it acts along. In SciPy 1.11.0, this behavior will change: the default value of `keepdims` will become False, the `axis` over which the statistic is taken will be eliminated, and the value None will no longer be accepted. Set `keepdims` to True or False to avoid this warning.\n",
      "  mode, _ = stats.mode(_y[neigh_ind, k], axis=1)\n"
     ]
    }
   ],
   "source": [
    "knn = KNeighborsClassifier(n_neighbors = 3) # the classifier will consider 3 nearest neighbors when making predictions\n",
    "\n",
    "knn.fit(wines_X_train, wines_y_train) # train the KNN classifier (knn) on the training data (features and labels)\n",
    "                                      #learning the relationship between the input features and the target labels.\n",
    "    \n",
    "knn_pred_Y = knn.predict(wines_X_test) #make predictions on the test data \n",
    "\n",
    "print('PECC (Accuracy): %0.2f' % knn.score(wines_X_test, wines_y_test)) #calculates and prints the accuracy of the KNN model on the test set. "
   ]
  },
  {
   "cell_type": "markdown",
   "metadata": {},
   "source": [
    "The KNN classifier correctly predicted the labels for 76% of the samples in the test set."
   ]
  },
  {
   "cell_type": "markdown",
   "metadata": {},
   "source": [
    "#### More evaluation metrics"
   ]
  },
  {
   "cell_type": "code",
   "execution_count": 12,
   "metadata": {},
   "outputs": [],
   "source": [
    "from sklearn.metrics import precision_score, recall_score, accuracy_score, ConfusionMatrixDisplay"
   ]
  },
  {
   "cell_type": "code",
   "execution_count": 13,
   "metadata": {},
   "outputs": [
    {
     "name": "stdout",
     "output_type": "stream",
     "text": [
      "Precision: 0.80\n",
      "Recall: 0.76\n",
      "Accuracy: 0.76\n"
     ]
    }
   ],
   "source": [
    "# precision, recall, and accuracy scores\n",
    "\n",
    "print('Precision: %0.2f' % precision_score(wines_y_test, knn_pred_Y, average='weighted'))\n",
    "print('Recall: %0.2f' % recall_score(wines_y_test, knn_pred_Y, average='weighted'))\n",
    "print('Accuracy: %0.2f' % accuracy_score(wines_y_test, knn_pred_Y))"
   ]
  },
  {
   "cell_type": "markdown",
   "metadata": {},
   "source": [
    "- 80% of the positive predictions made by the classifier were correct. \n",
    "\n",
    "- The classifier correctly identified 76% of the actual positive instances in the test set. \n",
    "\n",
    "- The accuracy of 76% indicates that the KNN model correctly predicted the labels for 76% of the samples in the test set."
   ]
  },
  {
   "cell_type": "code",
   "execution_count": 64,
   "metadata": {},
   "outputs": [
    {
     "data": {
      "text/plain": [
       "<sklearn.metrics._plot.confusion_matrix.ConfusionMatrixDisplay at 0x1b23ee9b220>"
      ]
     },
     "execution_count": 64,
     "metadata": {},
     "output_type": "execute_result"
    },
    {
     "data": {
      "image/png": "[encoded data removed]",
      "text/plain": [
       "<Figure size 640x480 with 2 Axes>"
      ]
     },
     "metadata": {},
     "output_type": "display_data"
    }
   ],
   "source": [
    "knn_cm = ConfusionMatrixDisplay.from_predictions(wines_y_test, knn_pred_Y, display_labels=knn.classes_, cmap='Blues')\n",
    "knn_cm"
   ]
  },
  {
   "cell_type": "markdown",
   "metadata": {},
   "source": [
    "### Decision trees"
   ]
  },
  {
   "cell_type": "code",
   "execution_count": 66,
   "metadata": {},
   "outputs": [],
   "source": [
    "from sklearn import tree\n",
    "\n",
    "tree_model = tree.DecisionTreeClassifier()\n",
    "tree_model.fit(wines_X_train, wines_y_train) #Train the decision tree mode\n",
    "                                             # wines_X_train represents the training features\n",
    "                                             # wines_y_train represents the corresponding target labels.\n",
    "\n",
    "tree_y_pred = tree_model.predict(wines_X_test) #Make predictions on the test data\n"
   ]
  },
  {
   "cell_type": "code",
   "execution_count": 73,
   "metadata": {},
   "outputs": [
    {
     "name": "stdout",
     "output_type": "stream",
     "text": [
      "PECC (Accuracy): 0.87\n",
      "Precision: 0.89\n",
      "Recall: 0.87\n",
      "Accuracy: 0.87\n"
     ]
    }
   ],
   "source": [
    "#performance metrics \n",
    "print('PECC (Accuracy): %0.2f' % tree_model.score(wines_X_test, wines_y_test))\n",
    "print('Precision: %0.2f' % precision_score(wines_y_test, tree_y_pred, average='weighted'))\n",
    "print('Recall: %0.2f' % recall_score(wines_y_test, tree_y_pred, average='weighted'))\n",
    "print('Accuracy: %0.2f' % accuracy_score(wines_y_test, tree_y_pred))"
   ]
  },
  {
   "cell_type": "markdown",
   "metadata": {},
   "source": [
    "- The model correctly predicted the labels for 87% of the samples in the test set.\n",
    "- The precision of 0.89 indicates that 89% of the positive predictions made by the classifier were correct. \n",
    "- The recall score of 0.87 means that your classifier correctly identified 87% of the actual positive instances in the test set. \n",
    "- The accuracy score of 0.87 represents the overall correctness of predictions across all classes in your test set. "
   ]
  },
  {
   "cell_type": "code",
   "execution_count": 68,
   "metadata": {},
   "outputs": [
    {
     "data": {
      "text/plain": [
       "<sklearn.metrics._plot.confusion_matrix.ConfusionMatrixDisplay at 0x1b240cd16a0>"
      ]
     },
     "execution_count": 68,
     "metadata": {},
     "output_type": "execute_result"
    },
    {
     "data": {
      "image/png": "[encoded data removed]",
      "text/plain": [
       "<Figure size 640x480 with 2 Axes>"
      ]
     },
     "metadata": {},
     "output_type": "display_data"
    }
   ],
   "source": [
    "tree_cm = ConfusionMatrixDisplay.from_predictions(wines_y_test, tree_y_pred, display_labels=tree_model.classes_, cmap='Blues')\n",
    "tree_cm"
   ]
  },
  {
   "cell_type": "markdown",
   "metadata": {},
   "source": [
    "### Naive Bayes"
   ]
  },
  {
   "cell_type": "code",
   "execution_count": 71,
   "metadata": {},
   "outputs": [],
   "source": [
    "from sklearn.naive_bayes import GaussianNB\n",
    "\n",
    "gnb_model = GaussianNB()\n",
    "gnb_model.fit(wines_X_train, wines_y_train) # Train the Gaussian Naive Bayes model:\n",
    "gnb_y_pred = gnb_model.predict(wines_X_test) # Make predictions on the test data"
   ]
  },
  {
   "cell_type": "code",
   "execution_count": 72,
   "metadata": {},
   "outputs": [
    {
     "name": "stdout",
     "output_type": "stream",
     "text": [
      "PECC (Accuracy): 0.96\n",
      "Precision: 0.97\n",
      "Recall: 0.96\n",
      "Accuracy: 0.96\n"
     ]
    }
   ],
   "source": [
    "#performance metrics \n",
    "print('PECC (Accuracy): %0.2f' % gnb_model.score(wines_X_test, wines_y_test))\n",
    "print('Precision: %0.2f' % precision_score(wines_y_test, gnb_y_pred, average='weighted'))\n",
    "print('Recall: %0.2f' % recall_score(wines_y_test, gnb_y_pred, average='weighted'))\n",
    "print('Accuracy: %0.2f' % accuracy_score(wines_y_test, gnb_y_pred))"
   ]
  },
  {
   "cell_type": "markdown",
   "metadata": {},
   "source": [
    "- The model correctly predicted the labels for 96% of the samples in the test set. \n",
    "- The precision score of 0.97 indicates that 97% of the positive predictions made by the classifier were correct. \n",
    "- The recall score of 0.96 means that the classifier correctly identified 96% of the actual positive instances in the test set. \n",
    "- The accuracy score of 0.96 represents the overall correctness of predictions across all classes in the test set. "
   ]
  },
  {
   "cell_type": "code",
   "execution_count": 18,
   "metadata": {},
   "outputs": [
    {
     "data": {
      "text/plain": [
       "<sklearn.metrics._plot.confusion_matrix.ConfusionMatrixDisplay at 0x1b23edd6760>"
      ]
     },
     "execution_count": 18,
     "metadata": {},
     "output_type": "execute_result"
    },
    {
     "data": {
      "image/png": "[encoded data removed]",
      "text/plain": [
       "<Figure size 640x480 with 2 Axes>"
      ]
     },
     "metadata": {},
     "output_type": "display_data"
    }
   ],
   "source": [
    "gnb_cm = ConfusionMatrixDisplay.from_predictions(wines_y_test, gnb_y_pred, display_labels=gnb_model.classes_, cmap='Blues')\n",
    "gnb_cm"
   ]
  },
  {
   "cell_type": "markdown",
   "metadata": {},
   "source": [
    "### Logistic Regression"
   ]
  },
  {
   "cell_type": "code",
   "execution_count": 75,
   "metadata": {},
   "outputs": [],
   "source": [
    "from sklearn import linear_model\n",
    "\n",
    "logistic = linear_model.LogisticRegression(C=1e5, solver = \"liblinear\", multi_class = \"auto\") \n",
    "\n",
    "logistic.fit(wines_X_train, wines_y_train) # train the logistic regression model on the training data. \n",
    "\n",
    "logistic_y_pred = logistic.predict(wines_X_test)"
   ]
  },
  {
   "cell_type": "code",
   "execution_count": 76,
   "metadata": {},
   "outputs": [
    {
     "name": "stdout",
     "output_type": "stream",
     "text": [
      "PECC (Accuracy): 0.94\n",
      "Precision: 0.95\n",
      "Recall: 0.94\n",
      "Accuracy: 0.94\n"
     ]
    }
   ],
   "source": [
    "# performance metrics \n",
    "\n",
    "print('PECC (Accuracy): %0.2f' % logistic.score(wines_X_test, wines_y_test))\n",
    "print('Precision: %0.2f' % precision_score(wines_y_test, logistic_y_pred, average='weighted'))\n",
    "print('Recall: %0.2f' % recall_score(wines_y_test, logistic_y_pred, average='weighted'))\n",
    "print('Accuracy: %0.2f' % accuracy_score(wines_y_test, logistic_y_pred))"
   ]
  },
  {
   "cell_type": "code",
   "execution_count": 77,
   "metadata": {},
   "outputs": [
    {
     "data": {
      "text/plain": [
       "<sklearn.metrics._plot.confusion_matrix.ConfusionMatrixDisplay at 0x1b238d22e50>"
      ]
     },
     "execution_count": 77,
     "metadata": {},
     "output_type": "execute_result"
    },
    {
     "data": {
      "image/png": "[encoded data removed]",
      "text/plain": [
       "<Figure size 640x480 with 2 Axes>"
      ]
     },
     "metadata": {},
     "output_type": "display_data"
    }
   ],
   "source": [
    "logistic_cm = ConfusionMatrixDisplay.from_predictions(wines_y_test, logistic_y_pred, display_labels=logistic.classes_, cmap='Blues')\n",
    "logistic_cm"
   ]
  },
  {
   "cell_type": "markdown",
   "metadata": {},
   "source": [
    "### SVM"
   ]
  },
  {
   "cell_type": "code",
   "execution_count": 78,
   "metadata": {},
   "outputs": [],
   "source": [
    "from sklearn import svm\n",
    "\n",
    "svm_model = svm.SVC(kernel = \"linear\")\n",
    "svm_model.fit(wines_X_train, wines_y_train) #training the model\n",
    "\n",
    "svm_y_pred = svm_model.predict(wines_X_test)"
   ]
  },
  {
   "cell_type": "code",
   "execution_count": 79,
   "metadata": {},
   "outputs": [
    {
     "name": "stdout",
     "output_type": "stream",
     "text": [
      "PECC (Accuracy): 0.96\n",
      "Precision: 0.97\n",
      "Recall: 0.96\n",
      "Accuracy: 0.96\n"
     ]
    }
   ],
   "source": [
    "#performance metrics\n",
    "print('PECC (Accuracy): %0.2f' % svm_model.score(wines_X_test, wines_y_test))\n",
    "print('Precision: %0.2f' % precision_score(wines_y_test, svm_y_pred, average='weighted'))\n",
    "print('Recall: %0.2f' % recall_score(wines_y_test, svm_y_pred, average='weighted'))\n",
    "print('Accuracy: %0.2f' % accuracy_score(wines_y_test, svm_y_pred))"
   ]
  },
  {
   "cell_type": "code",
   "execution_count": 80,
   "metadata": {},
   "outputs": [
    {
     "data": {
      "text/plain": [
       "<sklearn.metrics._plot.confusion_matrix.ConfusionMatrixDisplay at 0x1b240cdf520>"
      ]
     },
     "execution_count": 80,
     "metadata": {},
     "output_type": "execute_result"
    },
    {
     "data": {
      "image/png": "[encoded data removed]",
      "text/plain": [
       "<Figure size 640x480 with 2 Axes>"
      ]
     },
     "metadata": {},
     "output_type": "display_data"
    }
   ],
   "source": [
    "svm_cm = ConfusionMatrixDisplay.from_predictions(wines_y_test, svm_y_pred, display_labels=svm_model.classes_, cmap='Blues')\n",
    "svm_cm"
   ]
  },
  {
   "cell_type": "markdown",
   "metadata": {},
   "source": [
    "SVM with a radial basis function (RBF) kernel"
   ]
  },
  {
   "cell_type": "code",
   "execution_count": 81,
   "metadata": {},
   "outputs": [],
   "source": [
    "svm_rbf = svm.SVC(kernel = \"rbf\")\n",
    "\n",
    "svm_rbf.fit(wines_X_train, wines_y_train) # train the classifier\n",
    "\n",
    "svm_rbf_y_pred = svm_rbf.predict(wines_X_test)"
   ]
  },
  {
   "cell_type": "code",
   "execution_count": 82,
   "metadata": {},
   "outputs": [
    {
     "name": "stdout",
     "output_type": "stream",
     "text": [
      "PECC (Accuracy): 0.72\n"
     ]
    }
   ],
   "source": [
    "print('PECC (Accuracy): %0.2f' % svm_rbf.score(wines_X_test, wines_y_test))"
   ]
  },
  {
   "cell_type": "markdown",
   "metadata": {},
   "source": [
    "## Cross validation: SVM model"
   ]
  },
  {
   "cell_type": "markdown",
   "metadata": {},
   "source": [
    "Cross-validation is a technique used to assess the performance of a ML model in a more robust and reliable manner"
   ]
  },
  {
   "cell_type": "code",
   "execution_count": 84,
   "metadata": {},
   "outputs": [
    {
     "name": "stdout",
     "output_type": "stream",
     "text": [
      "Accuracy values: [0.88888889 0.94444444 0.94285714 1.         1.        ]\n",
      "Mean accuracy: 0.96\n"
     ]
    }
   ],
   "source": [
    "from sklearn.model_selection import cross_val_score\n",
    "\n",
    "scores_svm_cv = cross_val_score(estimator=svm_model, X=data_wines, y=target, cv = 5) \n",
    "                #cross-validation using 5 folds; computing accuracy scores for each fold; dataset is divided into five equal parts/folds\n",
    "                # The model is trained and evaluated five times, corresponding to the five folds. \n",
    "\n",
    "print('Accuracy values:', scores_svm_cv)\n",
    "print('Mean accuracy: %0.2f' % scores_svm_cv.mean())"
   ]
  },
  {
   "cell_type": "markdown",
   "metadata": {},
   "source": [
    "#### F1 score"
   ]
  },
  {
   "cell_type": "markdown",
   "metadata": {},
   "source": [
    "cross_val_score is used again, but this time we specify scoring=\"f1_weighted\". \n",
    "The F1 score is a metric that combines precision and recall, providing a balanced measure of a classifier's performance."
   ]
  },
  {
   "cell_type": "code",
   "execution_count": 86,
   "metadata": {},
   "outputs": [
    {
     "name": "stdout",
     "output_type": "stream",
     "text": [
      "F1 values: [0.88888889 0.94352462 0.94285714 1.         1.        ]\n",
      "Mean F1: 0.96\n"
     ]
    }
   ],
   "source": [
    "scores_svm_f1 = cross_val_score(estimator=svm_model, X=data_wines, y=target, scoring=\"f1_weighted\", cv=5)\n",
    "print('F1 values:', scores_svm_f1)\n",
    "print('Mean F1: %0.2f' % scores_svm_f1.mean())"
   ]
  },
  {
   "cell_type": "markdown",
   "metadata": {},
   "source": [
    "#### Leave-One-Out"
   ]
  },
  {
   "cell_type": "code",
   "execution_count": 87,
   "metadata": {},
   "outputs": [
    {
     "name": "stdout",
     "output_type": "stream",
     "text": [
      "Mean accuracy: 0.95\n"
     ]
    }
   ],
   "source": [
    "from sklearn.model_selection import LeaveOneOut\n",
    "\n",
    "loo_cv = LeaveOneOut()\n",
    "scores_loo = cross_val_score(estimator=svm_model, X=data_wines, y=target, cv=loo_cv)\n",
    "\n",
    "print('Mean accuracy: %0.2f' % scores_loo.mean()) # Overall measure of how well tje model is likely to perform on unseen data."
   ]
  },
  {
   "cell_type": "markdown",
   "metadata": {},
   "source": [
    "#### Resampling"
   ]
  },
  {
   "cell_type": "code",
   "execution_count": 88,
   "metadata": {},
   "outputs": [
    {
     "name": "stdout",
     "output_type": "stream",
     "text": [
      "Mean accuracy: 0.95\n"
     ]
    }
   ],
   "source": [
    "from sklearn.model_selection import ShuffleSplit\n",
    "\n",
    "data_split = ShuffleSplit(n_splits = 30, test_size=0.3, random_state=1)\n",
    "\n",
    "scores_ss = cross_val_score(estimator=svm_model, X=data_wines, y=target, cv=data_split)\n",
    "\n",
    "print('Mean accuracy: %0.2f' % scores_ss.mean())"
   ]
  },
  {
   "cell_type": "markdown",
   "metadata": {},
   "source": [
    "## Ensemble models"
   ]
  },
  {
   "cell_type": "markdown",
   "metadata": {},
   "source": [
    "### Bagging"
   ]
  },
  {
   "cell_type": "code",
   "execution_count": 89,
   "metadata": {},
   "outputs": [
    {
     "name": "stdout",
     "output_type": "stream",
     "text": [
      "Accuracy values: [0.86111111 0.86111111 0.88571429 0.91428571 0.97142857]\n",
      "Mean accuracy: 0.90\n"
     ]
    }
   ],
   "source": [
    "from sklearn.ensemble import BaggingClassifier\n",
    "\n",
    "bagged_knn_model = BaggingClassifier(knn, max_samples=0.5, max_features=0.5)\n",
    "\n",
    "scores_bag_knn = cross_val_score(bagged_knn_model, data_wines, target, cv=5)\n",
    "\n",
    "print('Accuracy values:', scores_bag_knn)\n",
    "print('Mean accuracy: %0.2f' % scores_bag_knn.mean())"
   ]
  },
  {
   "cell_type": "code",
   "execution_count": 33,
   "metadata": {},
   "outputs": [
    {
     "name": "stdout",
     "output_type": "stream",
     "text": [
      "Accuracy values: [0.94444444 0.94444444 0.94285714 1.         0.94285714]\n",
      "Mean accuracy: 0.95\n"
     ]
    }
   ],
   "source": [
    "bagged_model_tree = BaggingClassifier(tree_model, max_samples=0.5, max_features=0.5)\n",
    "\n",
    "scores_bag_tree = cross_val_score(bagged_model_tree, data_wines, target, cv=5)\n",
    "\n",
    "print('Accuracy values:', scores_bag_tree)\n",
    "print('Mean accuracy: %0.2f' % scores_bag_tree.mean())"
   ]
  },
  {
   "cell_type": "markdown",
   "metadata": {},
   "source": [
    "### Random Forests"
   ]
  },
  {
   "cell_type": "code",
   "execution_count": 90,
   "metadata": {},
   "outputs": [],
   "source": [
    "from sklearn.ensemble import RandomForestClassifier"
   ]
  },
  {
   "cell_type": "code",
   "execution_count": 91,
   "metadata": {},
   "outputs": [
    {
     "name": "stdout",
     "output_type": "stream",
     "text": [
      "Accuracy values: [0.97222222 0.94444444 1.         0.97142857 1.        ]\n",
      "Mean accuracy: 0.98\n"
     ]
    }
   ],
   "source": [
    "rf_model = RandomForestClassifier(n_estimators=100)\n",
    "\n",
    "scores_rf = cross_val_score(rf_model, data_wines, target, cv=5)\n",
    "\n",
    "print('Accuracy values:', scores_rf)\n",
    "print('Mean accuracy: %0.2f' % scores_rf.mean())"
   ]
  },
  {
   "cell_type": "markdown",
   "metadata": {},
   "source": [
    "### Boosting"
   ]
  },
  {
   "cell_type": "code",
   "execution_count": 93,
   "metadata": {},
   "outputs": [
    {
     "name": "stdout",
     "output_type": "stream",
     "text": [
      "Accuracy values: [0.69444444 0.94444444 0.6        0.62857143 1.        ]\n",
      "Mean accuracy: 0.77\n"
     ]
    }
   ],
   "source": [
    "from sklearn.ensemble import AdaBoostClassifier\n",
    "\n",
    "ada_tree = AdaBoostClassifier(n_estimators=100)\n",
    "\n",
    "scores_ada = cross_val_score(ada_tree, data_wines, target, cv=5)\n",
    "\n",
    "print('Accuracy values:', scores_ada)\n",
    "print('Mean accuracy: %0.2f' % scores_ada.mean())"
   ]
  },
  {
   "cell_type": "markdown",
   "metadata": {},
   "source": [
    "### Gradient Bosting"
   ]
  },
  {
   "cell_type": "code",
   "execution_count": 39,
   "metadata": {},
   "outputs": [
    {
     "name": "stdout",
     "output_type": "stream",
     "text": [
      "Accuracy values: [nan nan nan nan nan]\n",
      "Mean accuracy: nan\n"
     ]
    },
    {
     "name": "stderr",
     "output_type": "stream",
     "text": [
      "C:\\Users\\filip\\anaconda3\\lib\\site-packages\\sklearn\\model_selection\\_validation.py:372: FitFailedWarning: \n",
      "5 fits failed out of a total of 5.\n",
      "The score on these train-test partitions for these parameters will be set to nan.\n",
      "If these failures are not expected, you can try to debug them by setting error_score='raise'.\n",
      "\n",
      "Below are more details about the failures:\n",
      "--------------------------------------------------------------------------------\n",
      "5 fits failed with the following error:\n",
      "Traceback (most recent call last):\n",
      "  File \"C:\\Users\\filip\\anaconda3\\lib\\site-packages\\sklearn\\model_selection\\_validation.py\", line 680, in _fit_and_score\n",
      "    estimator.fit(X_train, y_train, **fit_params)\n",
      "  File \"C:\\Users\\filip\\anaconda3\\lib\\site-packages\\sklearn\\ensemble\\_gb.py\", line 525, in fit\n",
      "    self._check_params()\n",
      "  File \"C:\\Users\\filip\\anaconda3\\lib\\site-packages\\sklearn\\ensemble\\_gb.py\", line 282, in _check_params\n",
      "    raise ValueError(\"Loss '{0:s}' not supported. \".format(self.loss))\n",
      "ValueError: Loss 'log_loss' not supported. \n",
      "\n",
      "  warnings.warn(some_fits_failed_message, FitFailedWarning)\n"
     ]
    }
   ],
   "source": [
    "from sklearn.ensemble import GradientBoostingClassifier\n",
    "\n",
    "params = {'n_estimators': 500, 'max_depth': 4, 'min_samples_split': 2,\n",
    "          'learning_rate': 0.01, 'loss': 'log_loss'}\n",
    "\n",
    "gradient_boost = GradientBoostingClassifier(**params)\n",
    "\n",
    "scores_gradient = cross_val_score(gradient_boost, data_wines, target, cv=5)\n",
    "\n",
    "print('Accuracy values:', scores_gradient)\n",
    "print('Mean accuracy: %0.2f' % scores_gradient.mean())"
   ]
  },
  {
   "cell_type": "markdown",
   "metadata": {},
   "source": [
    "### Voting classifiers"
   ]
  },
  {
   "cell_type": "code",
   "execution_count": 94,
   "metadata": {},
   "outputs": [],
   "source": [
    "from sklearn.ensemble import VotingClassifier"
   ]
  },
  {
   "cell_type": "code",
   "execution_count": 95,
   "metadata": {},
   "outputs": [
    {
     "name": "stdout",
     "output_type": "stream",
     "text": [
      "Accuracy: 0.95 (std 0.02) [Logistic]\n",
      "Accuracy: 0.98 (std 0.02) [RF]\n",
      "Accuracy: 0.97 (std 0.02) [NB]\n",
      "Accuracy: 0.98 (std 0.01) [Ensemble]\n"
     ]
    }
   ],
   "source": [
    "voting_cls = VotingClassifier(estimators=[('lr', logistic), ('rf', rf_model), ('gnb', gnb_model)], voting='hard')\n",
    "\n",
    "for clf, label in zip([logistic, rf_model, gnb_model, voting_cls], ['Logistic', \"RF\", \"NB\", 'Ensemble']):\n",
    "    scores = cross_val_score(clf, data_wines, target, cv=5)\n",
    "    print(\"Accuracy: %0.2f (std %0.2f) [%s]\" % (scores.mean(), scores.std(), label))"
   ]
  },
  {
   "cell_type": "markdown",
   "metadata": {},
   "source": [
    "## Feature selection"
   ]
  },
  {
   "cell_type": "markdown",
   "metadata": {},
   "source": [
    "### VarianceThreshold"
   ]
  },
  {
   "cell_type": "code",
   "execution_count": 96,
   "metadata": {},
   "outputs": [],
   "source": [
    "from sklearn.feature_selection import VarianceThreshold"
   ]
  },
  {
   "cell_type": "code",
   "execution_count": 97,
   "metadata": {},
   "outputs": [
    {
     "name": "stdout",
     "output_type": "stream",
     "text": [
      "(177, 13)\n",
      "(177, 7)\n"
     ]
    }
   ],
   "source": [
    "filter_vt = VarianceThreshold(threshold=0.5)\n",
    "data_filtered_vt = filter_vt.fit_transform(data_wines)\n",
    "\n",
    "print(data_wines.shape)\n",
    "print(data_filtered_vt.shape)"
   ]
  },
  {
   "cell_type": "code",
   "execution_count": 110,
   "metadata": {},
   "outputs": [
    {
     "name": "stdout",
     "output_type": "stream",
     "text": [
      "Old Mean accuracy: 0.96\n",
      "New Mean accuracy: 0.96\n"
     ]
    }
   ],
   "source": [
    "scores = cross_val_score(svm_model, data_wines, target, cv=10)\n",
    "print('Old Mean accuracy: %0.2f' % scores.mean())\n",
    "\n",
    "scores_vt = cross_val_score(svm_model, data_filtered_vt, target, cv=10)\n",
    "print('New Mean accuracy: %0.2f' % scores_vt.mean())"
   ]
  },
  {
   "cell_type": "markdown",
   "metadata": {},
   "source": [
    "### SelectKBest"
   ]
  },
  {
   "cell_type": "code",
   "execution_count": 111,
   "metadata": {},
   "outputs": [],
   "source": [
    "from sklearn.feature_selection import SelectKBest, chi2, f_classif"
   ]
  },
  {
   "cell_type": "code",
   "execution_count": 112,
   "metadata": {},
   "outputs": [
    {
     "name": "stdout",
     "output_type": "stream",
     "text": [
      "(177, 8)\n",
      "Mean accuracy: 0.96\n"
     ]
    }
   ],
   "source": [
    "filt_kb = SelectKBest(chi2, k=8).fit_transform(data_wines, target)\n",
    "print(filt_kb.shape)\n",
    "\n",
    "scores_kb = cross_val_score(svm_model, filt_kb, target, cv=10)\n",
    "print('Mean accuracy: %0.2f' % scores_kb.mean())"
   ]
  },
  {
   "cell_type": "code",
   "execution_count": 113,
   "metadata": {},
   "outputs": [
    {
     "name": "stdout",
     "output_type": "stream",
     "text": [
      "(177, 8)\n",
      "Mean accuracy: 0.98\n"
     ]
    }
   ],
   "source": [
    "filt_kb2 = SelectKBest(f_classif, k=8).fit_transform(data_wines, target)\n",
    "print(filt_kb2.shape)\n",
    "\n",
    "scores_kb2 = cross_val_score(svm_model, filt_kb2, target, cv=10)\n",
    "print('Mean accuracy: %0.2f' % scores_kb2.mean())"
   ]
  },
  {
   "cell_type": "markdown",
   "metadata": {},
   "source": [
    "### Wrapper: recursive feature elimination (RFE)"
   ]
  },
  {
   "cell_type": "code",
   "execution_count": 114,
   "metadata": {},
   "outputs": [],
   "source": [
    "from sklearn.feature_selection import RFE"
   ]
  },
  {
   "cell_type": "code",
   "execution_count": 115,
   "metadata": {},
   "outputs": [
    {
     "name": "stdout",
     "output_type": "stream",
     "text": [
      "Mean accuracy: 0.92\n"
     ]
    }
   ],
   "source": [
    "svm_rfe = svm.SVC(kernel = \"linear\", C=100.)\n",
    "\n",
    "rfe = RFE(estimator=svm_rfe, n_features_to_select=8, step=2)\n",
    "\n",
    "scores_rfe = cross_val_score(rfe, data_wines, target, cv=10)\n",
    "print('Mean accuracy: %0.2f' % scores_rfe.mean())\n"
   ]
  },
  {
   "cell_type": "markdown",
   "metadata": {},
   "source": [
    "### Hyperparameter optimisation"
   ]
  },
  {
   "cell_type": "code",
   "execution_count": 116,
   "metadata": {},
   "outputs": [
    {
     "name": "stdout",
     "output_type": "stream",
     "text": [
      "SVC(C=10, gamma=0.001, kernel='linear')\n",
      "PECC (Accuracy): 0.96\n"
     ]
    }
   ],
   "source": [
    "from sklearn.model_selection import GridSearchCV\n",
    "\n",
    "parameters = {'kernel':['linear', 'rbf'], 'C':[1, 10, 100, 1000, 10000, 100000], 'gamma':[1e-3, 1e-4, 1e-5, 1e-6]}\n",
    "\n",
    "svm_model_d = svm.SVC()\n",
    "opt_model_d = GridSearchCV(svm_model_d, parameters)\n",
    "\n",
    "opt_model_d.fit(wines_X_train, wines_y_train)\n",
    "print(opt_model_d.best_estimator_)\n",
    "\n",
    "print('PECC (Accuracy): %0.2f' % opt_model_d.score(wines_X_test, wines_y_test))"
   ]
  },
  {
   "cell_type": "code",
   "execution_count": 117,
   "metadata": {},
   "outputs": [
    {
     "name": "stdout",
     "output_type": "stream",
     "text": [
      "SVC(C=1000, gamma=0.0001, kernel='linear')\n",
      "PECC (Accuracy): 0.96\n"
     ]
    }
   ],
   "source": [
    "from sklearn.model_selection import RandomizedSearchCV\n",
    "\n",
    "svm_model_d = svm.SVC()\n",
    "opt_model_d = RandomizedSearchCV(svm_model_d, parameters)\n",
    "\n",
    "opt_model_d.fit(wines_X_train, wines_y_train)\n",
    "print(opt_model_d.best_estimator_)\n",
    "\n",
    "print('PECC (Accuracy): %0.2f' % opt_model_d.score(wines_X_test, wines_y_test))"
   ]
  },
  {
   "cell_type": "markdown",
   "metadata": {},
   "source": [
    "### Using standardized input data"
   ]
  },
  {
   "cell_type": "code",
   "execution_count": 118,
   "metadata": {},
   "outputs": [],
   "source": [
    "from sklearn.preprocessing import StandardScaler\n",
    "scaler = StandardScaler()\n",
    "scaler.fit(wines_X_train)\n",
    "wines_X_tr_sc = scaler.transform(wines_X_train)\n",
    "wines_X_ts_sc = scaler.transform(wines_X_test)"
   ]
  },
  {
   "cell_type": "code",
   "execution_count": 119,
   "metadata": {},
   "outputs": [
    {
     "name": "stdout",
     "output_type": "stream",
     "text": [
      "PECC (Accuracy): 0.96\n"
     ]
    },
    {
     "name": "stderr",
     "output_type": "stream",
     "text": [
      "C:\\Users\\filip\\anaconda3\\lib\\site-packages\\sklearn\\neighbors\\_classification.py:228: FutureWarning: Unlike other reduction functions (e.g. `skew`, `kurtosis`), the default behavior of `mode` typically preserves the axis it acts along. In SciPy 1.11.0, this behavior will change: the default value of `keepdims` will become False, the `axis` over which the statistic is taken will be eliminated, and the value None will no longer be accepted. Set `keepdims` to True or False to avoid this warning.\n",
      "  mode, _ = stats.mode(_y[neigh_ind, k], axis=1)\n",
      "C:\\Users\\filip\\anaconda3\\lib\\site-packages\\sklearn\\neighbors\\_classification.py:228: FutureWarning: Unlike other reduction functions (e.g. `skew`, `kurtosis`), the default behavior of `mode` typically preserves the axis it acts along. In SciPy 1.11.0, this behavior will change: the default value of `keepdims` will become False, the `axis` over which the statistic is taken will be eliminated, and the value None will no longer be accepted. Set `keepdims` to True or False to avoid this warning.\n",
      "  mode, _ = stats.mode(_y[neigh_ind, k], axis=1)\n"
     ]
    }
   ],
   "source": [
    "knn.fit(wines_X_tr_sc, wines_y_train)\n",
    "knn_pred_Y = knn.predict(wines_X_ts_sc)\n",
    "\n",
    "print('PECC (Accuracy): %0.2f' % knn.score(wines_X_ts_sc, wines_y_test))"
   ]
  },
  {
   "cell_type": "code",
   "execution_count": 120,
   "metadata": {},
   "outputs": [
    {
     "name": "stdout",
     "output_type": "stream",
     "text": [
      "PECC (Accuracy): 1.00\n"
     ]
    }
   ],
   "source": [
    "svm_rbf.fit(wines_X_tr_sc, wines_y_train)\n",
    "print('PECC (Accuracy): %0.2f' % svm_rbf.score(wines_X_ts_sc, wines_y_test))"
   ]
  },
  {
   "cell_type": "code",
   "execution_count": 121,
   "metadata": {},
   "outputs": [
    {
     "name": "stdout",
     "output_type": "stream",
     "text": [
      "SVC(C=10, gamma=0.001, kernel='linear')\n",
      "PECC (Accuracy): 0.98\n"
     ]
    }
   ],
   "source": [
    "svm_model_d2 = svm.SVC()\n",
    "opt_model_d2 = RandomizedSearchCV(svm_model_d2, parameters)\n",
    "\n",
    "opt_model_d2.fit(wines_X_tr_sc, wines_y_train)\n",
    "print(opt_model_d2.best_estimator_)\n",
    "\n",
    "print('PECC (Accuracy): %0.2f' % opt_model_d2.score(wines_X_ts_sc, wines_y_test))"
   ]
  }
 ],
 "metadata": {
  "kernelspec": {
   "display_name": "Python 3 (ipykernel)",
   "language": "python",
   "name": "python3"
  },
  "language_info": {
   "codemirror_mode": {
    "name": "ipython",
    "version": 3
   },
   "file_extension": ".py",
   "mimetype": "text/x-python",
   "name": "python",
   "nbconvert_exporter": "python",
   "pygments_lexer": "ipython3",
   "version": "3.9.13"
  }
 },
 "nbformat": 4,
 "nbformat_minor": 1
}
