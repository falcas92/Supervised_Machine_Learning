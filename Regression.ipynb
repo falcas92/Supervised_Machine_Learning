{
 "cells": [
  {
   "cell_type": "markdown",
   "metadata": {},
   "source": [
    "## Supervised machine learning: Regression examples"
   ]
  },
  {
   "cell_type": "markdown",
   "metadata": {},
   "source": [
    "### Data and metadata\n",
    "\n",
    "Dataset from sklearn reference datasets"
   ]
  },
  {
   "cell_type": "code",
   "execution_count": 1,
   "metadata": {},
   "outputs": [],
   "source": [
    "from sklearn import datasets"
   ]
  },
  {
   "cell_type": "code",
   "execution_count": 2,
   "metadata": {},
   "outputs": [],
   "source": [
    "diabetes = datasets.load_diabetes()"
   ]
  },
  {
   "cell_type": "markdown",
   "metadata": {},
   "source": [
    "### Dataset description"
   ]
  },
  {
   "cell_type": "markdown",
   "metadata": {},
   "source": [
    "- Dataframe containing 442 rows and 10 columns, representing the age, sex, body mass index (BMI), average blood pressure and six blood serum measurements of diabetes patients\n",
    "- goal: predict a quantitative measure of disease progression one year after baseline from the variables measured"
   ]
  },
  {
   "cell_type": "code",
   "execution_count": 3,
   "metadata": {},
   "outputs": [
    {
     "name": "stdout",
     "output_type": "stream",
     "text": [
      ".. _diabetes_dataset:\n",
      "\n",
      "Diabetes dataset\n",
      "----------------\n",
      "\n",
      "Ten baseline variables, age, sex, body mass index, average blood\n",
      "pressure, and six blood serum measurements were obtained for each of n =\n",
      "442 diabetes patients, as well as the response of interest, a\n",
      "quantitative measure of disease progression one year after baseline.\n",
      "\n",
      "**Data Set Characteristics:**\n",
      "\n",
      "  :Number of Instances: 442\n",
      "\n",
      "  :Number of Attributes: First 10 columns are numeric predictive values\n",
      "\n",
      "  :Target: Column 11 is a quantitative measure of disease progression one year after baseline\n",
      "\n",
      "  :Attribute Information:\n",
      "      - age     age in years\n",
      "      - sex\n",
      "      - bmi     body mass index\n",
      "      - bp      average blood pressure\n",
      "      - s1      tc, total serum cholesterol\n",
      "      - s2      ldl, low-density lipoproteins\n",
      "      - s3      hdl, high-density lipoproteins\n",
      "      - s4      tch, total cholesterol / HDL\n",
      "      - s5      ltg, possibly log of serum triglycerides level\n",
      "      - s6      glu, blood sugar level\n",
      "\n",
      "Note: Each of these 10 feature variables have been mean centered and scaled by the standard deviation times `n_samples` (i.e. the sum of squares of each column totals 1).\n",
      "\n",
      "Source URL:\n",
      "https://www4.stat.ncsu.edu/~boos/var.select/diabetes.html\n",
      "\n",
      "For more information see:\n",
      "Bradley Efron, Trevor Hastie, Iain Johnstone and Robert Tibshirani (2004) \"Least Angle Regression,\" Annals of Statistics (with discussion), 407-499.\n",
      "(https://web.stanford.edu/~hastie/Papers/LARS/LeastAngle_2002.pdf)\n"
     ]
    }
   ],
   "source": [
    "print(diabetes.DESCR) "
   ]
  },
  {
   "cell_type": "markdown",
   "metadata": {},
   "source": [
    "### Data"
   ]
  },
  {
   "cell_type": "code",
   "execution_count": 5,
   "metadata": {
    "scrolled": true
   },
   "outputs": [
    {
     "data": {
      "text/plain": [
       "array([[ 0.03807591,  0.05068012,  0.06169621, ..., -0.00259226,\n",
       "         0.01990842, -0.01764613],\n",
       "       [-0.00188202, -0.04464164, -0.05147406, ..., -0.03949338,\n",
       "        -0.06832974, -0.09220405],\n",
       "       [ 0.08529891,  0.05068012,  0.04445121, ..., -0.00259226,\n",
       "         0.00286377, -0.02593034],\n",
       "       ...,\n",
       "       [ 0.04170844,  0.05068012, -0.01590626, ..., -0.01107952,\n",
       "        -0.04687948,  0.01549073],\n",
       "       [-0.04547248, -0.04464164,  0.03906215, ...,  0.02655962,\n",
       "         0.04452837, -0.02593034],\n",
       "       [-0.04547248, -0.04464164, -0.0730303 , ..., -0.03949338,\n",
       "        -0.00421986,  0.00306441]])"
      ]
     },
     "execution_count": 5,
     "metadata": {},
     "output_type": "execute_result"
    }
   ],
   "source": [
    "diabetes.data"
   ]
  },
  {
   "cell_type": "code",
   "execution_count": 6,
   "metadata": {},
   "outputs": [
    {
     "data": {
      "text/plain": [
       "(442, 10)"
      ]
     },
     "execution_count": 6,
     "metadata": {},
     "output_type": "execute_result"
    }
   ],
   "source": [
    "diabetes.data.shape"
   ]
  },
  {
   "cell_type": "markdown",
   "metadata": {},
   "source": [
    "### Target (the variable we want to predict)"
   ]
  },
  {
   "cell_type": "code",
   "execution_count": 9,
   "metadata": {},
   "outputs": [
    {
     "data": {
      "text/plain": [
       "array([151.,  75., 141., 206., 135.,  97., 138.,  63., 110., 310., 101.,\n",
       "        69., 179., 185., 118., 171., 166., 144.,  97., 168.,  68.,  49.,\n",
       "        68., 245., 184., 202., 137.,  85., 131., 283., 129.,  59., 341.,\n",
       "        87.,  65., 102., 265., 276., 252.,  90., 100.,  55.,  61.,  92.,\n",
       "       259.,  53., 190., 142.,  75., 142., 155., 225.,  59., 104., 182.,\n",
       "       128.,  52.,  37., 170., 170.,  61., 144.,  52., 128.,  71., 163.,\n",
       "       150.,  97., 160., 178.,  48., 270., 202., 111.,  85.,  42., 170.,\n",
       "       200., 252., 113., 143.,  51.,  52., 210.,  65., 141.,  55., 134.,\n",
       "        42., 111.,  98., 164.,  48.,  96.,  90., 162., 150., 279.,  92.,\n",
       "        83., 128., 102., 302., 198.,  95.,  53., 134., 144., 232.,  81.,\n",
       "       104.,  59., 246., 297., 258., 229., 275., 281., 179., 200., 200.,\n",
       "       173., 180.,  84., 121., 161.,  99., 109., 115., 268., 274., 158.,\n",
       "       107.,  83., 103., 272.,  85., 280., 336., 281., 118., 317., 235.,\n",
       "        60., 174., 259., 178., 128.,  96., 126., 288.,  88., 292.,  71.,\n",
       "       197., 186.,  25.,  84.,  96., 195.,  53., 217., 172., 131., 214.,\n",
       "        59.,  70., 220., 268., 152.,  47.,  74., 295., 101., 151., 127.,\n",
       "       237., 225.,  81., 151., 107.,  64., 138., 185., 265., 101., 137.,\n",
       "       143., 141.,  79., 292., 178.,  91., 116.,  86., 122.,  72., 129.,\n",
       "       142.,  90., 158.,  39., 196., 222., 277.,  99., 196., 202., 155.,\n",
       "        77., 191.,  70.,  73.,  49.,  65., 263., 248., 296., 214., 185.,\n",
       "        78.,  93., 252., 150.,  77., 208.,  77., 108., 160.,  53., 220.,\n",
       "       154., 259.,  90., 246., 124.,  67.,  72., 257., 262., 275., 177.,\n",
       "        71.,  47., 187., 125.,  78.,  51., 258., 215., 303., 243.,  91.,\n",
       "       150., 310., 153., 346.,  63.,  89.,  50.,  39., 103., 308., 116.,\n",
       "       145.,  74.,  45., 115., 264.,  87., 202., 127., 182., 241.,  66.,\n",
       "        94., 283.,  64., 102., 200., 265.,  94., 230., 181., 156., 233.,\n",
       "        60., 219.,  80.,  68., 332., 248.,  84., 200.,  55.,  85.,  89.,\n",
       "        31., 129.,  83., 275.,  65., 198., 236., 253., 124.,  44., 172.,\n",
       "       114., 142., 109., 180., 144., 163., 147.,  97., 220., 190., 109.,\n",
       "       191., 122., 230., 242., 248., 249., 192., 131., 237.,  78., 135.,\n",
       "       244., 199., 270., 164.,  72.,  96., 306.,  91., 214.,  95., 216.,\n",
       "       263., 178., 113., 200., 139., 139.,  88., 148.,  88., 243.,  71.,\n",
       "        77., 109., 272.,  60.,  54., 221.,  90., 311., 281., 182., 321.,\n",
       "        58., 262., 206., 233., 242., 123., 167.,  63., 197.,  71., 168.,\n",
       "       140., 217., 121., 235., 245.,  40.,  52., 104., 132.,  88.,  69.,\n",
       "       219.,  72., 201., 110.,  51., 277.,  63., 118.,  69., 273., 258.,\n",
       "        43., 198., 242., 232., 175.,  93., 168., 275., 293., 281.,  72.,\n",
       "       140., 189., 181., 209., 136., 261., 113., 131., 174., 257.,  55.,\n",
       "        84.,  42., 146., 212., 233.,  91., 111., 152., 120.,  67., 310.,\n",
       "        94., 183.,  66., 173.,  72.,  49.,  64.,  48., 178., 104., 132.,\n",
       "       220.,  57.])"
      ]
     },
     "execution_count": 9,
     "metadata": {},
     "output_type": "execute_result"
    }
   ],
   "source": [
    "diabetes.target"
   ]
  },
  {
   "cell_type": "markdown",
   "metadata": {},
   "source": [
    "### Split the dataset into train and test"
   ]
  },
  {
   "cell_type": "code",
   "execution_count": 13,
   "metadata": {},
   "outputs": [
    {
     "name": "stdout",
     "output_type": "stream",
     "text": [
      "(353, 10)\n",
      "(89, 10)\n"
     ]
    }
   ],
   "source": [
    "from sklearn.model_selection import train_test_split\n",
    "\n",
    "diabetes_X_train, diabetes_X_test, diabetes_y_train, diabetes_y_test = train_test_split(diabetes.data, diabetes.target, test_size=0.2, random_state=1)\n",
    "    #Splitting the diabetes dataset into training and testing sets with a random seed for reproducibility\n",
    "\n",
    "print(diabetes_X_train.shape)\n",
    "print(diabetes_X_test.shape)"
   ]
  },
  {
   "cell_type": "markdown",
   "metadata": {},
   "source": [
    "### Decision tree based regression model"
   ]
  },
  {
   "cell_type": "code",
   "execution_count": 19,
   "metadata": {},
   "outputs": [
    {
     "name": "stdout",
     "output_type": "stream",
     "text": [
      "R2: -0.2148625135374207\n"
     ]
    }
   ],
   "source": [
    "from sklearn.tree import DecisionTreeRegressor\n",
    "\n",
    "regr_tree = DecisionTreeRegressor()\n",
    "regr_tree = regr_tree.fit(diabetes_X_train, diabetes_y_train) #fitting the model to the training data\n",
    "\n",
    "tree_y_pred = regr_tree.predict(diabetes_X_test) # making predictions on the testing data\n",
    "\n",
    "print(\"R2:\", regr_tree.score(diabetes_X_test, diabetes_y_test))\n",
    "        # R2: a measure of how well the model explains the variance in the target variable \n",
    "        # A higher R2 score indicates a better fit, meaning the model's predictions are closer to the actual target values."
   ]
  },
  {
   "cell_type": "markdown",
   "metadata": {},
   "source": [
    "The R2 score of approximately -0.215 indicates that the decision tree regression model trained performs poorly on the testing data."
   ]
  },
  {
   "cell_type": "markdown",
   "metadata": {},
   "source": [
    "#### More metrics"
   ]
  },
  {
   "cell_type": "code",
   "execution_count": 20,
   "metadata": {},
   "outputs": [
    {
     "name": "stdout",
     "output_type": "stream",
     "text": [
      "MSE: 6473.966292134832\n",
      "MAE: 61.60674157303371\n",
      "R2: -0.2148625135374207\n"
     ]
    }
   ],
   "source": [
    "from sklearn.metrics import mean_squared_error, mean_absolute_error, r2_score\n",
    "\n",
    "print(\"MSE:\", mean_squared_error(diabetes_y_test, tree_y_pred))\n",
    "    # average squared difference between the target values (diabetes_y_test) and the predicted values (tree_y_pred).\n",
    "    # overall accuracy of the model's predictions\n",
    "print(\"MAE:\", mean_absolute_error(diabetes_y_test, tree_y_pred))\n",
    "    # average absolute difference between the diabetes_y_test and the predicted values tree_y_pred.\n",
    "    # MAE provides a measure of prediction accuracy, but it gives equal weight to all errors and is less sensitive to outliers.\n",
    "    \n",
    "print(\"R2:\", r2_score(diabetes_y_test, tree_y_pred))"
   ]
  },
  {
   "cell_type": "markdown",
   "metadata": {},
   "source": [
    "MSE: 6473.97\n",
    "\n",
    "A higher MSE indicates larger prediction errors, and in this case, it's a relatively high value.\n",
    "\n",
    "MAE: 61.61\n",
    "\n",
    "A lower MAE is generally better, but this value suggests that the model's predictions have a relatively large average absolute error."
   ]
  },
  {
   "cell_type": "markdown",
   "metadata": {},
   "source": [
    "### Linear regression"
   ]
  },
  {
   "cell_type": "code",
   "execution_count": 23,
   "metadata": {},
   "outputs": [],
   "source": [
    "from sklearn import linear_model\n",
    "\n",
    "regr_model = linear_model.LinearRegression()\n",
    "regr_model = regr_model.fit(diabetes_X_train, diabetes_y_train) #fitting the model to the training data\n",
    "\n",
    "regr_y_pred = regr_model.predict(diabetes_X_test)"
   ]
  },
  {
   "cell_type": "markdown",
   "metadata": {},
   "source": [
    "#### Metrics "
   ]
  },
  {
   "cell_type": "code",
   "execution_count": 24,
   "metadata": {},
   "outputs": [
    {
     "name": "stdout",
     "output_type": "stream",
     "text": [
      "R2: 0.43843604017332694\n",
      "MSE: 2992.5576814529445\n",
      "MAE: 41.974875685462315\n"
     ]
    }
   ],
   "source": [
    "print(\"R2:\", regr_model.score(diabetes_X_test, diabetes_y_test))\n",
    "print(\"MSE:\", mean_squared_error(diabetes_y_test, regr_y_pred))\n",
    "print(\"MAE:\", mean_absolute_error(diabetes_y_test, regr_y_pred))"
   ]
  },
  {
   "cell_type": "markdown",
   "metadata": {},
   "source": [
    "### SVM (Support Vector Regression)"
   ]
  },
  {
   "cell_type": "code",
   "execution_count": 25,
   "metadata": {},
   "outputs": [],
   "source": [
    "from sklearn.svm import SVR\n",
    "regr_svm = SVR(kernel = \"rbf\", C = 100)\n",
    "\n",
    "regr_svm = regr_svm.fit(diabetes_X_train, diabetes_y_train) #fitting the model to the training data\n",
    "\n",
    "svm_pred = regr_svm.predict(diabetes_X_test)"
   ]
  },
  {
   "cell_type": "markdown",
   "metadata": {},
   "source": [
    "#### Metrics"
   ]
  },
  {
   "cell_type": "code",
   "execution_count": 26,
   "metadata": {},
   "outputs": [
    {
     "name": "stdout",
     "output_type": "stream",
     "text": [
      "R2: 0.3083249276182749\n",
      "MSE: 3685.9159401260745\n",
      "MAE: 45.2333388001873\n",
      "R2: 0.3083249276182749\n"
     ]
    }
   ],
   "source": [
    "print(\"R2:\", regr_svm.score(diabetes_X_test, diabetes_y_test))\n",
    "print(\"MSE:\", mean_squared_error(diabetes_y_test, svm_pred))\n",
    "print(\"MAE:\", mean_absolute_error(diabetes_y_test, svm_pred))\n",
    "print(\"R2:\", r2_score(diabetes_y_test, svm_pred))"
   ]
  },
  {
   "cell_type": "markdown",
   "metadata": {},
   "source": [
    "## Cross validation: Linear Regression Model"
   ]
  },
  {
   "cell_type": "code",
   "execution_count": 27,
   "metadata": {},
   "outputs": [
    {
     "name": "stdout",
     "output_type": "stream",
     "text": [
      "R2 values: [0.42955643 0.52259828 0.4826784  0.42650827 0.55024923]\n",
      "Mean R2: 0.48231812211149394\n"
     ]
    }
   ],
   "source": [
    "from sklearn.model_selection import cross_val_score\n",
    "\n",
    "scores_linear_cv = cross_val_score(estimator=regr_model, X=diabetes.data, y=diabetes.target, cv=5)\n",
    "    # performing Cross-Validation with Linear Regression\n",
    "\n",
    "print('R2 values:', scores_linear_cv)\n",
    "print('Mean R2:', scores_linear_cv.mean()) # mean R2 score across all the folds"
   ]
  },
  {
   "cell_type": "markdown",
   "metadata": {},
   "source": [
    "On average, the linear regression model explained around 48.23% of the variance in the target variable (in this case, diabetes severity) "
   ]
  },
  {
   "cell_type": "markdown",
   "metadata": {},
   "source": [
    "#### other score metrics (MSE)"
   ]
  },
  {
   "cell_type": "code",
   "execution_count": 21,
   "metadata": {},
   "outputs": [
    {
     "name": "stdout",
     "output_type": "stream",
     "text": [
      "Negative MSE values: [-2779.92210988 -3028.84335258 -3237.70099059 -3008.69133019\n",
      " -2910.20693327]\n",
      "Mean MSE: 2993.072943299886\n"
     ]
    }
   ],
   "source": [
    "scores_linear_mse = cross_val_score(regr_model, diabetes.data, diabetes.target, cv=5, scoring='neg_mean_squared_error')\n",
    "\n",
    "print('Negative MSE values:', scores_linear_mse)\n",
    "print('Mean MSE:', -1*scores_linear_mse.mean())"
   ]
  },
  {
   "cell_type": "markdown",
   "metadata": {},
   "source": [
    "### Leave-One-Out Cross-Validation (LOOCV): Linear Regression Model"
   ]
  },
  {
   "cell_type": "code",
   "execution_count": 28,
   "metadata": {},
   "outputs": [
    {
     "name": "stdout",
     "output_type": "stream",
     "text": [
      "Mean accuracy: -3001.7462317329464\n"
     ]
    }
   ],
   "source": [
    "from sklearn.model_selection import LeaveOneOut\n",
    "\n",
    "loo_cv = LeaveOneOut() \n",
    "    # LOOCV is a special case of cross-validation where each data point is used as a test set once while the rest of the data points are used for training\n",
    "\n",
    "scores_loo = cross_val_score(regr_model, diabetes.data, diabetes.target, cv=loo_cv, scoring='neg_mean_squared_error')\n",
    "\n",
    "print('Mean accuracy:', scores_loo.mean())"
   ]
  },
  {
   "cell_type": "markdown",
   "metadata": {},
   "source": [
    "Negative MSE values are used in sci kit; higher negative values correspond to lower (and better) MSE."
   ]
  },
  {
   "cell_type": "markdown",
   "metadata": {},
   "source": [
    "### Resampling (ShuffleSplit cross-validation ): Linear Regression Model"
   ]
  },
  {
   "cell_type": "code",
   "execution_count": 30,
   "metadata": {},
   "outputs": [
    {
     "name": "stdout",
     "output_type": "stream",
     "text": [
      "Mean R2: 0.48040581282261186\n"
     ]
    }
   ],
   "source": [
    "from sklearn.model_selection import ShuffleSplit\n",
    "\n",
    "data_split = ShuffleSplit(n_splits=30, test_size=0.3, random_state=1)\n",
    "\n",
    "scores_ss = cross_val_score(regr_model, diabetes.data, diabetes.target, cv=data_split)\n",
    "\n",
    "print('Mean R2:', scores_ss.mean())"
   ]
  },
  {
   "cell_type": "markdown",
   "metadata": {},
   "source": [
    "## Ensemble models to improve overall predictive performance, robustness, and generalization."
   ]
  },
  {
   "cell_type": "markdown",
   "metadata": {},
   "source": [
    "### Bagging (training multiple base models independently on random subsets (with replacement) of the training data)"
   ]
  },
  {
   "cell_type": "code",
   "execution_count": 31,
   "metadata": {},
   "outputs": [
    {
     "name": "stdout",
     "output_type": "stream",
     "text": [
      "R2 values: [0.34451301 0.50740874 0.47756454 0.4320375  0.48856484]\n",
      "Mean R2: 0.45\n"
     ]
    }
   ],
   "source": [
    "from sklearn.ensemble import BaggingRegressor\n",
    "\n",
    "bagged_model = BaggingRegressor(regr_model, max_samples=0.5, max_features=0.5)\n",
    "\n",
    "scores_bag = cross_val_score(bagged_model, diabetes.data, diabetes.target, cv=5)\n",
    "\n",
    "print('R2 values:', scores_bag)\n",
    "print('Mean R2: %0.2f' % scores_bag.mean())"
   ]
  },
  {
   "cell_type": "markdown",
   "metadata": {},
   "source": [
    "### Random Forests (multiple decision trees to create a more accurate and robust predictive model)"
   ]
  },
  {
   "cell_type": "code",
   "execution_count": 32,
   "metadata": {},
   "outputs": [
    {
     "name": "stdout",
     "output_type": "stream",
     "text": [
      "R2 values: [0.36856327 0.49930084 0.40880181 0.3885778  0.42361865]\n",
      "Mean R2: 0.42\n"
     ]
    }
   ],
   "source": [
    "from sklearn.ensemble import RandomForestRegressor\n",
    "\n",
    "rf_regr = RandomForestRegressor()\n",
    "\n",
    "scores_rf = cross_val_score(rf_regr, diabetes.data, diabetes.target, cv=5)\n",
    "\n",
    "print('R2 values:', scores_rf)\n",
    "print('Mean R2: %0.2f' % scores_rf.mean())"
   ]
  },
  {
   "cell_type": "markdown",
   "metadata": {},
   "source": [
    "### Boosting"
   ]
  },
  {
   "cell_type": "code",
   "execution_count": 33,
   "metadata": {},
   "outputs": [
    {
     "name": "stdout",
     "output_type": "stream",
     "text": [
      "R2 values: [0.37981909 0.46670793 0.42697884 0.34242086 0.43470139]\n",
      "Mean R2: 0.41\n"
     ]
    }
   ],
   "source": [
    "from sklearn.ensemble import AdaBoostRegressor\n",
    "\n",
    "ada_reg = AdaBoostRegressor(n_estimators=100)\n",
    "\n",
    "scores_ada_reg = cross_val_score(ada_reg, diabetes.data, diabetes.target, cv=5)\n",
    "\n",
    "print('R2 values:', scores_ada_reg)\n",
    "print('Mean R2: %0.2f' % scores_ada_reg.mean())"
   ]
  },
  {
   "cell_type": "markdown",
   "metadata": {},
   "source": [
    "### Gradient Boosting"
   ]
  },
  {
   "cell_type": "code",
   "execution_count": 34,
   "metadata": {},
   "outputs": [
    {
     "name": "stdout",
     "output_type": "stream",
     "text": [
      "Negative MSE values: [-3077.53201177 -3194.25296095 -3806.10236419 -3541.70273589\n",
      " -3854.11301257]\n",
      "Mean MSE: 3494.74\n"
     ]
    }
   ],
   "source": [
    "from sklearn.ensemble import GradientBoostingRegressor\n",
    "\n",
    "params = {'n_estimators': 500, 'max_depth': 4, 'min_samples_split': 2,\n",
    "          'learning_rate': 0.01, 'loss': 'squared_error'}\n",
    "\n",
    "gradient_boost = GradientBoostingRegressor(**params)\n",
    "\n",
    "scores_mse = cross_val_score(gradient_boost, diabetes.data, diabetes.target, scoring = \"neg_mean_squared_error\", cv=5)\n",
    "print('Negative MSE values:', scores_mse)\n",
    "meanMSE = -1.0*scores_mse.mean()\n",
    "print('Mean MSE: %0.2f' % meanMSE)"
   ]
  },
  {
   "cell_type": "markdown",
   "metadata": {},
   "source": [
    "### Voting Regressors"
   ]
  },
  {
   "cell_type": "code",
   "execution_count": 35,
   "metadata": {},
   "outputs": [
    {
     "name": "stdout",
     "output_type": "stream",
     "text": [
      "R2: 0.48 (std 0.05) [Linear]\n",
      "R2: 0.43 (std 0.05) [RF]\n",
      "R2: 0.43 (std 0.10) [SVM]\n",
      "R2: 0.48 (std 0.06) [Ensemble]\n"
     ]
    }
   ],
   "source": [
    "from sklearn.ensemble import VotingRegressor\n",
    "\n",
    "voting_cls = VotingRegressor(estimators=[('lr', regr_model), ('rf', rf_regr), ('svm', regr_svm)])\n",
    "\n",
    "for clf, label in zip([regr_model, rf_regr, regr_svm, voting_cls], ['Linear', \"RF\", \"SVM\", 'Ensemble']):\n",
    "    scores = cross_val_score(clf, diabetes.data, diabetes.target, cv=5)\n",
    "    print(\"R2: %0.2f (std %0.2f) [%s]\" % (scores.mean(), scores.std(), label))"
   ]
  },
  {
   "cell_type": "markdown",
   "metadata": {},
   "source": [
    "## Feature selection"
   ]
  },
  {
   "cell_type": "markdown",
   "metadata": {},
   "source": [
    "### SelectKBest: Support Vector Machine Regression model "
   ]
  },
  {
   "cell_type": "code",
   "execution_count": 36,
   "metadata": {},
   "outputs": [
    {
     "name": "stdout",
     "output_type": "stream",
     "text": [
      "(442, 6)\n",
      "Mean R2: 0.37\n",
      "Old R2: 0.41\n"
     ]
    }
   ],
   "source": [
    "from sklearn.feature_selection import SelectKBest, f_regression\n",
    "\n",
    "filt_kb = SelectKBest(f_regression, k=6).fit_transform(diabetes.data, diabetes.target)\n",
    "print(filt_kb.shape)\n",
    "\n",
    "scores_kb = cross_val_score(regr_svm, filt_kb, diabetes.target, cv=10)\n",
    "print('Mean R2: %0.2f' % scores_kb.mean())\n",
    "\n",
    "scores = cross_val_score(regr_svm, diabetes.data, diabetes.target, cv=10)\n",
    "print('Old R2: %0.2f' % scores.mean())"
   ]
  },
  {
   "cell_type": "code",
   "execution_count": 38,
   "metadata": {},
   "outputs": [
    {
     "name": "stdout",
     "output_type": "stream",
     "text": [
      "Selected feature indices: [2, 3, 6, 7, 8, 9]\n",
      "Selected feature names: ['bmi', 'bp', 's3', 's4', 's5', 's6']\n"
     ]
    }
   ],
   "source": [
    "from sklearn.feature_selection import SelectKBest, f_regression\n",
    "\n",
    "# Create the SelectKBest feature selector\n",
    "selector = SelectKBest(f_regression, k=6)\n",
    "\n",
    "# Fit the selector to your data and target\n",
    "filt_kb = selector.fit_transform(diabetes.data, diabetes.target)\n",
    "\n",
    "# Get the mask of selected features\n",
    "selected_features_mask = selector.get_support()\n",
    "\n",
    "# Print the indices or names of selected features\n",
    "selected_feature_indices = [i for i, selected in enumerate(selected_features_mask) if selected]\n",
    "selected_feature_names = [diabetes.feature_names[i] for i in selected_feature_indices]\n",
    "\n",
    "print(\"Selected feature indices:\", selected_feature_indices)\n",
    "print(\"Selected feature names:\", selected_feature_names)"
   ]
  },
  {
   "cell_type": "markdown",
   "metadata": {},
   "source": [
    "### Wrapper: recursive feature elimination (RFE): Support Vector Machine Regression model"
   ]
  },
  {
   "cell_type": "code",
   "execution_count": 39,
   "metadata": {},
   "outputs": [],
   "source": [
    "from sklearn.feature_selection import RFE"
   ]
  },
  {
   "cell_type": "code",
   "execution_count": 40,
   "metadata": {},
   "outputs": [
    {
     "name": "stdout",
     "output_type": "stream",
     "text": [
      "Mean R2: 0.44\n"
     ]
    }
   ],
   "source": [
    "svr = SVR(kernel = \"linear\", C=100.)\n",
    "\n",
    "rfe = RFE(estimator=svr, n_features_to_select=8, step=2)\n",
    "\n",
    "scores_rfe = cross_val_score(rfe, diabetes.data, diabetes.target, cv=10)\n",
    "print('Mean R2: %0.2f' % scores_rfe.mean())"
   ]
  },
  {
   "cell_type": "markdown",
   "metadata": {},
   "source": [
    "## Hyperparameter optimisation: Support Vector Machine Regression model"
   ]
  },
  {
   "cell_type": "markdown",
   "metadata": {},
   "source": [
    "Finding the best settings or configurations for a machine learning model. "
   ]
  },
  {
   "cell_type": "code",
   "execution_count": 41,
   "metadata": {},
   "outputs": [
    {
     "name": "stdout",
     "output_type": "stream",
     "text": [
      "SVR(C=1000, gamma=0.001, kernel='linear')\n"
     ]
    },
    {
     "data": {
      "text/plain": [
       "0.46525737220642405"
      ]
     },
     "execution_count": 41,
     "metadata": {},
     "output_type": "execute_result"
    }
   ],
   "source": [
    "from sklearn.model_selection import GridSearchCV\n",
    "\n",
    "parameters = {'kernel':['linear', 'rbf'], 'C':[1, 10, 100, 1000, 10000, 100000], 'gamma':[1e-3, 1e-4, 1e-5, 1e-6]}\n",
    "\n",
    "svm_model_d = SVR()\n",
    "opt_model_d = GridSearchCV(svm_model_d, parameters)\n",
    "\n",
    "opt_model_d.fit(diabetes.data, diabetes.target)\n",
    "print(opt_model_d.best_estimator_)\n",
    "\n",
    "scores_opt = cross_val_score(opt_model_d, diabetes.data, diabetes.target, cv = 5).mean()\n",
    "scores_opt"
   ]
  }
 ],
 "metadata": {
  "kernelspec": {
   "display_name": "Python 3 (ipykernel)",
   "language": "python",
   "name": "python3"
  },
  "language_info": {
   "codemirror_mode": {
    "name": "ipython",
    "version": 3
   },
   "file_extension": ".py",
   "mimetype": "text/x-python",
   "name": "python",
   "nbconvert_exporter": "python",
   "pygments_lexer": "ipython3",
   "version": "3.9.13"
  }
 },
 "nbformat": 4,
 "nbformat_minor": 1
}
